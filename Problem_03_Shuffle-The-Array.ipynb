{
 "cells": [
  {
   "cell_type": "code",
   "execution_count": 5,
   "id": "1b962003",
   "metadata": {},
   "outputs": [
    {
     "name": "stdout",
     "output_type": "stream",
     "text": [
      "[1, 4, 2, 3, 3, 2, 4, 1]\n"
     ]
    }
   ],
   "source": [
    "nums=[1,2,3,4,4,3,2,1]\n",
    "#class Solution:\n",
    "    #def shuffle(self, nums: [1,2,3,4,4,3,2,1], n: int) -> List[int]:\n",
    "x=int(len(nums)/2)\n",
    "result=[]\n",
    "for i in range(0,x,1):\n",
    "    result.append(nums[0+i])\n",
    "    result.append(nums[x+i])\n",
    "print (result)"
   ]
  },
  {
   "cell_type": "markdown",
   "id": "6b1b9b91",
   "metadata": {},
   "source": [
    "**I replaced return() function with print() function and also commented the class & function declaring lines, after copying it from Leetcode. Otherwise it was running but was not showing any output."
   ]
  },
  {
   "cell_type": "code",
   "execution_count": null,
   "id": "a1588ee0",
   "metadata": {},
   "outputs": [],
   "source": []
  }
 ],
 "metadata": {
  "kernelspec": {
   "display_name": "Python 3",
   "language": "python",
   "name": "python3"
  },
  "language_info": {
   "codemirror_mode": {
    "name": "ipython",
    "version": 3
   },
   "file_extension": ".py",
   "mimetype": "text/x-python",
   "name": "python",
   "nbconvert_exporter": "python",
   "pygments_lexer": "ipython3",
   "version": "3.8.8"
  }
 },
 "nbformat": 4,
 "nbformat_minor": 5
}
