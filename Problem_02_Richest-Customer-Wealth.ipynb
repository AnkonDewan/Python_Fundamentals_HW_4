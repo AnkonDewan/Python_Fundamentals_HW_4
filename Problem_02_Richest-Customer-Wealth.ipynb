{
 "cells": [
  {
   "cell_type": "code",
   "execution_count": 21,
   "id": "8097c235",
   "metadata": {},
   "outputs": [
    {
     "name": "stdout",
     "output_type": "stream",
     "text": [
      "17\n"
     ]
    }
   ],
   "source": [
    "accounts = [[2,8,7],[7,1,3],[1,9,5]]\n",
    "\n",
    "#class Solution:\n",
    "    #def maximumWealth(self, accounts: [[2,8,7],[7,1,3],[1,9,5]]) -> int:\n",
    "result=[]\n",
    "for i in range(len(accounts)):\n",
    "    wealth=0\n",
    "    for j in range(len(accounts[i])):\n",
    "        wealth = wealth + accounts[i][j-1]\n",
    "    result.append(wealth)\n",
    "print(max(result))"
   ]
  },
  {
   "cell_type": "markdown",
   "id": "3a684ba0",
   "metadata": {},
   "source": [
    "**I replaced return() function with print() function and also commented the class & function declaring lines, after copying it from Leetcode. Otherwise it was running but was not showing any output."
   ]
  },
  {
   "cell_type": "code",
   "execution_count": null,
   "id": "aeb5851d",
   "metadata": {},
   "outputs": [],
   "source": []
  }
 ],
 "metadata": {
  "kernelspec": {
   "display_name": "Python 3",
   "language": "python",
   "name": "python3"
  },
  "language_info": {
   "codemirror_mode": {
    "name": "ipython",
    "version": 3
   },
   "file_extension": ".py",
   "mimetype": "text/x-python",
   "name": "python",
   "nbconvert_exporter": "python",
   "pygments_lexer": "ipython3",
   "version": "3.8.8"
  }
 },
 "nbformat": 4,
 "nbformat_minor": 5
}
